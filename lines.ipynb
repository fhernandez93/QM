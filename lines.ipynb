{
 "cells": [
  {
   "cell_type": "code",
   "execution_count": 156,
   "metadata": {},
   "outputs": [],
   "source": [
    "#Import libraries\n",
    "import numpy as np\n",
    "import pandas as pd\n"
   ]
  },
  {
   "cell_type": "code",
   "execution_count": 157,
   "metadata": {},
   "outputs": [],
   "source": [
    "#Loading data\n",
    "file_path = 'data.npy'\n",
    "loaded_array = np.load(file_path)"
   ]
  },
  {
   "cell_type": "code",
   "execution_count": 158,
   "metadata": {},
   "outputs": [],
   "source": [
    "def polar_to_cartesian(r, theta):\n",
    "    x = r * np.cos(theta)\n",
    "    y = r * np.sin(theta)\n",
    "    return x, y\n"
   ]
  },
  {
   "cell_type": "code",
   "execution_count": 159,
   "metadata": {},
   "outputs": [],
   "source": [
    "x_coord, y_coord = polar_to_cartesian(loaded_array[:,0], loaded_array[:,1])\n",
    "scores = loaded_array[:,2]"
   ]
  },
  {
   "cell_type": "code",
   "execution_count": 168,
   "metadata": {},
   "outputs": [
    {
     "name": "stdout",
     "output_type": "stream",
     "text": [
      "0.5\n"
     ]
    }
   ],
   "source": [
    "def calc_gradients(x,y):\n",
    "    x_non_zero = np.where(x == 0, 1, x)\n",
    "    result = np.divide(y, x_non_zero)\n",
    "    result = np.where(x == 0, np.nan, result)\n",
    "    return result\n"
   ]
  },
  {
   "cell_type": "code",
   "execution_count": 161,
   "metadata": {},
   "outputs": [],
   "source": [
    "slopes = calc_gradients(x_coord, y_coord)"
   ]
  },
  {
   "cell_type": "code",
   "execution_count": 169,
   "metadata": {},
   "outputs": [],
   "source": [
    "intersection_y = lambda y,x,m: y - m * x\n",
    "\n",
    "intersection_values_y = intersection_y(y_coord,x_coord,slopes)"
   ]
  },
  {
   "cell_type": "code",
   "execution_count": null,
   "metadata": {},
   "outputs": [],
   "source": [
    "intersection_x = lambda "
   ]
  },
  {
   "cell_type": "code",
   "execution_count": 163,
   "metadata": {},
   "outputs": [],
   "source": [
    "#Getting indices of positive and negative oriented lines \n",
    "\n",
    "positive_gradient_lines = np.where(slopes[slopes >= 0])[0]\n",
    "negative_gradient_lines = np.where(slopes[slopes < 0])[0]\n"
   ]
  },
  {
   "cell_type": "code",
   "execution_count": 164,
   "metadata": {},
   "outputs": [],
   "source": [
    "#Create a new array that contains the x-intercept difference for each line of positive gradient to each line of negative gradient\n",
    "x_intercept_diff = np.abs(intersection_values[positive_gradient_lines][:, np.newaxis] - intersection_values[negative_gradient_lines])\n",
    "scores_diff = (scores[positive_gradient_lines][:, np.newaxis] + scores[negative_gradient_lines])"
   ]
  },
  {
   "cell_type": "code",
   "execution_count": 165,
   "metadata": {},
   "outputs": [
    {
     "data": {
      "text/html": [
       "<div>\n",
       "<style scoped>\n",
       "    .dataframe tbody tr th:only-of-type {\n",
       "        vertical-align: middle;\n",
       "    }\n",
       "\n",
       "    .dataframe tbody tr th {\n",
       "        vertical-align: top;\n",
       "    }\n",
       "\n",
       "    .dataframe thead th {\n",
       "        text-align: right;\n",
       "    }\n",
       "</style>\n",
       "<table border=\"1\" class=\"dataframe\">\n",
       "  <thead>\n",
       "    <tr style=\"text-align: right;\">\n",
       "      <th></th>\n",
       "      <th>Positive Gradient</th>\n",
       "      <th>Negative Gradient</th>\n",
       "      <th>Positive Intersection</th>\n",
       "      <th>Negative Intersection</th>\n",
       "      <th>x-intercept Difference</th>\n",
       "      <th>Sum Score</th>\n",
       "    </tr>\n",
       "  </thead>\n",
       "  <tbody>\n",
       "    <tr>\n",
       "      <th>0</th>\n",
       "      <td>0.017455</td>\n",
       "      <td>-1.539865</td>\n",
       "      <td>0.0</td>\n",
       "      <td>0.0</td>\n",
       "      <td>0.0</td>\n",
       "      <td>136.0</td>\n",
       "    </tr>\n",
       "    <tr>\n",
       "      <th>1</th>\n",
       "      <td>0.404026</td>\n",
       "      <td>-19.081141</td>\n",
       "      <td>0.0</td>\n",
       "      <td>0.0</td>\n",
       "      <td>0.0</td>\n",
       "      <td>58.0</td>\n",
       "    </tr>\n",
       "    <tr>\n",
       "      <th>2</th>\n",
       "      <td>0.404026</td>\n",
       "      <td>-57.290150</td>\n",
       "      <td>0.0</td>\n",
       "      <td>0.0</td>\n",
       "      <td>0.0</td>\n",
       "      <td>58.0</td>\n",
       "    </tr>\n",
       "    <tr>\n",
       "      <th>3</th>\n",
       "      <td>0.404026</td>\n",
       "      <td>-57.290146</td>\n",
       "      <td>0.0</td>\n",
       "      <td>0.0</td>\n",
       "      <td>0.0</td>\n",
       "      <td>58.0</td>\n",
       "    </tr>\n",
       "    <tr>\n",
       "      <th>4</th>\n",
       "      <td>0.404026</td>\n",
       "      <td>-57.290150</td>\n",
       "      <td>0.0</td>\n",
       "      <td>0.0</td>\n",
       "      <td>0.0</td>\n",
       "      <td>58.0</td>\n",
       "    </tr>\n",
       "    <tr>\n",
       "      <th>...</th>\n",
       "      <td>...</td>\n",
       "      <td>...</td>\n",
       "      <td>...</td>\n",
       "      <td>...</td>\n",
       "      <td>...</td>\n",
       "      <td>...</td>\n",
       "    </tr>\n",
       "    <tr>\n",
       "      <th>95</th>\n",
       "      <td>0.404026</td>\n",
       "      <td>-3.077685</td>\n",
       "      <td>0.0</td>\n",
       "      <td>0.0</td>\n",
       "      <td>0.0</td>\n",
       "      <td>59.0</td>\n",
       "    </tr>\n",
       "    <tr>\n",
       "      <th>96</th>\n",
       "      <td>0.404026</td>\n",
       "      <td>-2.747478</td>\n",
       "      <td>0.0</td>\n",
       "      <td>0.0</td>\n",
       "      <td>0.0</td>\n",
       "      <td>59.0</td>\n",
       "    </tr>\n",
       "    <tr>\n",
       "      <th>97</th>\n",
       "      <td>0.404026</td>\n",
       "      <td>-1.000000</td>\n",
       "      <td>0.0</td>\n",
       "      <td>0.0</td>\n",
       "      <td>0.0</td>\n",
       "      <td>59.0</td>\n",
       "    </tr>\n",
       "    <tr>\n",
       "      <th>98</th>\n",
       "      <td>0.404026</td>\n",
       "      <td>-1.110612</td>\n",
       "      <td>0.0</td>\n",
       "      <td>0.0</td>\n",
       "      <td>0.0</td>\n",
       "      <td>59.0</td>\n",
       "    </tr>\n",
       "    <tr>\n",
       "      <th>99</th>\n",
       "      <td>0.404026</td>\n",
       "      <td>-1.327044</td>\n",
       "      <td>0.0</td>\n",
       "      <td>0.0</td>\n",
       "      <td>0.0</td>\n",
       "      <td>59.0</td>\n",
       "    </tr>\n",
       "  </tbody>\n",
       "</table>\n",
       "<p>100 rows × 6 columns</p>\n",
       "</div>"
      ],
      "text/plain": [
       "    Positive Gradient  Negative Gradient  Positive Intersection  \\\n",
       "0            0.017455          -1.539865                    0.0   \n",
       "1            0.404026         -19.081141                    0.0   \n",
       "2            0.404026         -57.290150                    0.0   \n",
       "3            0.404026         -57.290146                    0.0   \n",
       "4            0.404026         -57.290150                    0.0   \n",
       "..                ...                ...                    ...   \n",
       "95           0.404026          -3.077685                    0.0   \n",
       "96           0.404026          -2.747478                    0.0   \n",
       "97           0.404026          -1.000000                    0.0   \n",
       "98           0.404026          -1.110612                    0.0   \n",
       "99           0.404026          -1.327044                    0.0   \n",
       "\n",
       "    Negative Intersection  x-intercept Difference  Sum Score  \n",
       "0                     0.0                     0.0      136.0  \n",
       "1                     0.0                     0.0       58.0  \n",
       "2                     0.0                     0.0       58.0  \n",
       "3                     0.0                     0.0       58.0  \n",
       "4                     0.0                     0.0       58.0  \n",
       "..                    ...                     ...        ...  \n",
       "95                    0.0                     0.0       59.0  \n",
       "96                    0.0                     0.0       59.0  \n",
       "97                    0.0                     0.0       59.0  \n",
       "98                    0.0                     0.0       59.0  \n",
       "99                    0.0                     0.0       59.0  \n",
       "\n",
       "[100 rows x 6 columns]"
      ]
     },
     "execution_count": 165,
     "metadata": {},
     "output_type": "execute_result"
    }
   ],
   "source": [
    "closest_pairs_indices = np.unravel_index(np.argsort(x_intercept_diff, axis=None), x_intercept_diff.shape)\n",
    "closest_pairs_indices = np.column_stack(closest_pairs_indices)[:100]\n",
    "\n",
    "closest_pairs_data = []\n",
    "\n",
    "for index_pair in closest_pairs_indices:\n",
    "    positive_grad = slopes[slopes >= 0][index_pair[0]]\n",
    "    positive_intersection = intersection_values[index_pair[0]]\n",
    "    negative_grad = slopes[slopes < 0][index_pair[1]]\n",
    "    negative_intersection = intersection_values[index_pair[1]]\n",
    "    x_intercept_difference = x_intercept_diff[index_pair[0], index_pair[1]]\n",
    "    sum_score = scores_diff[index_pair[0], index_pair[1]]\n",
    "\n",
    "    closest_pairs_data.append([\n",
    "        positive_grad, negative_grad,positive_intersection,negative_intersection,\n",
    "        x_intercept_difference, sum_score\n",
    "    ])\n",
    "\n",
    "column_names = ['Positive Gradient', 'Negative Gradient','Positive Intersection','Negative Intersection',\n",
    "                'x-intercept Difference', 'Sum Score']\n",
    "\n",
    "df = pd.DataFrame(closest_pairs_data, columns=column_names)\n",
    "\n",
    "df"
   ]
  },
  {
   "cell_type": "code",
   "execution_count": null,
   "metadata": {},
   "outputs": [],
   "source": []
  }
 ],
 "metadata": {
  "kernelspec": {
   "display_name": "Python 3",
   "language": "python",
   "name": "python3"
  },
  "language_info": {
   "codemirror_mode": {
    "name": "ipython",
    "version": 3
   },
   "file_extension": ".py",
   "mimetype": "text/x-python",
   "name": "python",
   "nbconvert_exporter": "python",
   "pygments_lexer": "ipython3",
   "version": "3.9.6"
  },
  "orig_nbformat": 4
 },
 "nbformat": 4,
 "nbformat_minor": 2
}
