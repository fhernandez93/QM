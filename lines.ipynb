{
 "cells": [
  {
   "cell_type": "code",
   "execution_count": 273,
   "metadata": {},
   "outputs": [],
   "source": [
    "#Import libraries\n",
    "import numpy as np\n",
    "import pandas as pd\n"
   ]
  },
  {
   "cell_type": "code",
   "execution_count": 274,
   "metadata": {},
   "outputs": [],
   "source": [
    "#Loading data\n",
    "file_path = 'data.npy'\n",
    "loaded_array = np.load(file_path)"
   ]
  },
  {
   "cell_type": "code",
   "execution_count": 275,
   "metadata": {},
   "outputs": [],
   "source": [
    "def polar_to_cartesian(r, theta):\n",
    "    x = r * np.cos(theta)\n",
    "    y = r * np.sin(theta)\n",
    "    return x, y\n"
   ]
  },
  {
   "cell_type": "code",
   "execution_count": 276,
   "metadata": {},
   "outputs": [],
   "source": [
    "x_coord, y_coord = polar_to_cartesian(loaded_array[:,0], loaded_array[:,1])\n",
    "scores = loaded_array[:,2]"
   ]
  },
  {
   "cell_type": "code",
   "execution_count": 277,
   "metadata": {},
   "outputs": [],
   "source": [
    "def calc_gradients(x,y):\n",
    "    x_non_zero = np.where(x == 0, 1, x)\n",
    "    result = np.divide(y, x_non_zero)\n",
    "    result = np.where(x == 0, np.nan, result)\n",
    "    return result\n"
   ]
  },
  {
   "cell_type": "code",
   "execution_count": 278,
   "metadata": {},
   "outputs": [],
   "source": [
    "slopes = calc_gradients(x_coord, y_coord)"
   ]
  },
  {
   "cell_type": "code",
   "execution_count": 279,
   "metadata": {},
   "outputs": [],
   "source": [
    "intersection_y = lambda r,m,theta: r*(np.sin(theta) - m*np.cos(theta))\n",
    "\n",
    "intersection_values_y = intersection_y(loaded_array[:,0],slopes,loaded_array[:,1])\n"
   ]
  },
  {
   "cell_type": "code",
   "execution_count": 280,
   "metadata": {},
   "outputs": [
    {
     "name": "stderr",
     "output_type": "stream",
     "text": [
      "/var/folders/pn/7xb0xrx119l4_783pgg7gp140000gn/T/ipykernel_3478/1933300804.py:1: RuntimeWarning: invalid value encountered in divide\n",
      "  intersection_x = lambda b,m: -b/m\n"
     ]
    }
   ],
   "source": [
    "intersection_x = lambda b,m: -b/m\n",
    "\n",
    "intersection_values_x = intersection_x(intersection_values_y,slopes)"
   ]
  },
  {
   "cell_type": "code",
   "execution_count": 281,
   "metadata": {},
   "outputs": [],
   "source": [
    "#Getting indices of positive and negative oriented lines \n",
    "\n",
    "positive_gradient_lines = np.where(slopes[slopes >= 0])[0]\n",
    "negative_gradient_lines = np.where(slopes[slopes < 0])[0]\n"
   ]
  },
  {
   "cell_type": "code",
   "execution_count": 282,
   "metadata": {},
   "outputs": [],
   "source": [
    "#Create a new array that contains the x-intercept difference for each line of positive gradient to each line of negative gradient\n",
    "x_intercept_diff = np.abs(intersection_values_x[positive_gradient_lines][:, np.newaxis] - intersection_values_x[negative_gradient_lines])\n",
    "scores_diff = (scores[positive_gradient_lines][:, np.newaxis] + scores[negative_gradient_lines])"
   ]
  },
  {
   "cell_type": "code",
   "execution_count": 283,
   "metadata": {},
   "outputs": [
    {
     "data": {
      "text/html": [
       "<div>\n",
       "<style scoped>\n",
       "    .dataframe tbody tr th:only-of-type {\n",
       "        vertical-align: middle;\n",
       "    }\n",
       "\n",
       "    .dataframe tbody tr th {\n",
       "        vertical-align: top;\n",
       "    }\n",
       "\n",
       "    .dataframe thead th {\n",
       "        text-align: right;\n",
       "    }\n",
       "</style>\n",
       "<table border=\"1\" class=\"dataframe\">\n",
       "  <thead>\n",
       "    <tr style=\"text-align: right;\">\n",
       "      <th></th>\n",
       "      <th>Positive Gradient</th>\n",
       "      <th>Negative Gradient</th>\n",
       "      <th>Positive Y Intersection</th>\n",
       "      <th>Negative Y Intersection</th>\n",
       "      <th>x-intercept Difference</th>\n",
       "      <th>Sum Score</th>\n",
       "    </tr>\n",
       "  </thead>\n",
       "  <tbody>\n",
       "    <tr>\n",
       "      <th>0</th>\n",
       "      <td>0.017455</td>\n",
       "      <td>-1.539865</td>\n",
       "      <td>0.000004</td>\n",
       "      <td>0.000004</td>\n",
       "      <td>0.0</td>\n",
       "      <td>136.0</td>\n",
       "    </tr>\n",
       "    <tr>\n",
       "      <th>468</th>\n",
       "      <td>0.052408</td>\n",
       "      <td>-1.482561</td>\n",
       "      <td>-0.000000</td>\n",
       "      <td>-0.000000</td>\n",
       "      <td>0.0</td>\n",
       "      <td>134.0</td>\n",
       "    </tr>\n",
       "    <tr>\n",
       "      <th>469</th>\n",
       "      <td>0.052408</td>\n",
       "      <td>-1.327044</td>\n",
       "      <td>-0.000000</td>\n",
       "      <td>-0.000000</td>\n",
       "      <td>0.0</td>\n",
       "      <td>130.0</td>\n",
       "    </tr>\n",
       "    <tr>\n",
       "      <th>470</th>\n",
       "      <td>0.052408</td>\n",
       "      <td>-1.539865</td>\n",
       "      <td>-0.000000</td>\n",
       "      <td>-0.000000</td>\n",
       "      <td>0.0</td>\n",
       "      <td>126.0</td>\n",
       "    </tr>\n",
       "    <tr>\n",
       "      <th>471</th>\n",
       "      <td>0.052408</td>\n",
       "      <td>-1.482561</td>\n",
       "      <td>-0.000000</td>\n",
       "      <td>-0.000000</td>\n",
       "      <td>0.0</td>\n",
       "      <td>126.0</td>\n",
       "    </tr>\n",
       "    <tr>\n",
       "      <th>...</th>\n",
       "      <td>...</td>\n",
       "      <td>...</td>\n",
       "      <td>...</td>\n",
       "      <td>...</td>\n",
       "      <td>...</td>\n",
       "      <td>...</td>\n",
       "    </tr>\n",
       "    <tr>\n",
       "      <th>617</th>\n",
       "      <td>0.052408</td>\n",
       "      <td>-11.430049</td>\n",
       "      <td>-0.000000</td>\n",
       "      <td>0.000000</td>\n",
       "      <td>0.0</td>\n",
       "      <td>97.0</td>\n",
       "    </tr>\n",
       "    <tr>\n",
       "      <th>618</th>\n",
       "      <td>0.052408</td>\n",
       "      <td>-8.144349</td>\n",
       "      <td>-0.000000</td>\n",
       "      <td>-0.000000</td>\n",
       "      <td>0.0</td>\n",
       "      <td>97.0</td>\n",
       "    </tr>\n",
       "    <tr>\n",
       "      <th>619</th>\n",
       "      <td>0.052408</td>\n",
       "      <td>-5.671281</td>\n",
       "      <td>-0.000000</td>\n",
       "      <td>-0.000000</td>\n",
       "      <td>0.0</td>\n",
       "      <td>97.0</td>\n",
       "    </tr>\n",
       "    <tr>\n",
       "      <th>620</th>\n",
       "      <td>0.052408</td>\n",
       "      <td>-5.144553</td>\n",
       "      <td>-0.000000</td>\n",
       "      <td>0.000000</td>\n",
       "      <td>0.0</td>\n",
       "      <td>97.0</td>\n",
       "    </tr>\n",
       "    <tr>\n",
       "      <th>621</th>\n",
       "      <td>0.052408</td>\n",
       "      <td>-4.704632</td>\n",
       "      <td>-0.000000</td>\n",
       "      <td>-0.000000</td>\n",
       "      <td>0.0</td>\n",
       "      <td>97.0</td>\n",
       "    </tr>\n",
       "  </tbody>\n",
       "</table>\n",
       "<p>100 rows × 6 columns</p>\n",
       "</div>"
      ],
      "text/plain": [
       "     Positive Gradient  Negative Gradient  Positive Y Intersection  \\\n",
       "0             0.017455          -1.539865                 0.000004   \n",
       "468           0.052408          -1.482561                -0.000000   \n",
       "469           0.052408          -1.327044                -0.000000   \n",
       "470           0.052408          -1.539865                -0.000000   \n",
       "471           0.052408          -1.482561                -0.000000   \n",
       "..                 ...                ...                      ...   \n",
       "617           0.052408         -11.430049                -0.000000   \n",
       "618           0.052408          -8.144349                -0.000000   \n",
       "619           0.052408          -5.671281                -0.000000   \n",
       "620           0.052408          -5.144553                -0.000000   \n",
       "621           0.052408          -4.704632                -0.000000   \n",
       "\n",
       "     Negative Y Intersection  x-intercept Difference  Sum Score  \n",
       "0                   0.000004                     0.0      136.0  \n",
       "468                -0.000000                     0.0      134.0  \n",
       "469                -0.000000                     0.0      130.0  \n",
       "470                -0.000000                     0.0      126.0  \n",
       "471                -0.000000                     0.0      126.0  \n",
       "..                       ...                     ...        ...  \n",
       "617                 0.000000                     0.0       97.0  \n",
       "618                -0.000000                     0.0       97.0  \n",
       "619                -0.000000                     0.0       97.0  \n",
       "620                 0.000000                     0.0       97.0  \n",
       "621                -0.000000                     0.0       97.0  \n",
       "\n",
       "[100 rows x 6 columns]"
      ]
     },
     "execution_count": 283,
     "metadata": {},
     "output_type": "execute_result"
    }
   ],
   "source": [
    "\n",
    "closest_pairs_data = []\n",
    "\n",
    "for i,item in enumerate(x_intercept_diff):\n",
    "    for j,element in enumerate(item):\n",
    "        positive_grad = slopes[slopes >= 0][i]\n",
    "        positive_intersection = intersection_values_y[i]\n",
    "        negative_grad = slopes[slopes < 0][j]\n",
    "        negative_intersection = intersection_values_y[j]\n",
    "        x_intercept_difference = x_intercept_diff[i, j]\n",
    "        sum_score = scores_diff[i, j]\n",
    "\n",
    "        closest_pairs_data.append([\n",
    "            positive_grad, negative_grad,positive_intersection,negative_intersection,\n",
    "            x_intercept_difference, sum_score\n",
    "        ])\n",
    "\n",
    "column_names = ['Positive Gradient', 'Negative Gradient','Positive Y Intersection','Negative Y Intersection',\n",
    "                'x-intercept Difference', 'Sum Score']\n",
    "\n",
    "df = pd.DataFrame(closest_pairs_data, columns=column_names)\n",
    "df = df.nsmallest(100, 'x-intercept Difference')\n",
    "\n",
    "df\n"
   ]
  },
  {
   "cell_type": "code",
   "execution_count": 284,
   "metadata": {},
   "outputs": [],
   "source": [
    "df.to_csv('closest_pairs.csv', index=False)\n"
   ]
  }
 ],
 "metadata": {
  "kernelspec": {
   "display_name": "Python 3",
   "language": "python",
   "name": "python3"
  },
  "language_info": {
   "codemirror_mode": {
    "name": "ipython",
    "version": 3
   },
   "file_extension": ".py",
   "mimetype": "text/x-python",
   "name": "python",
   "nbconvert_exporter": "python",
   "pygments_lexer": "ipython3",
   "version": "3.9.6"
  },
  "orig_nbformat": 4
 },
 "nbformat": 4,
 "nbformat_minor": 2
}
