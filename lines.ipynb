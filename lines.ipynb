{
 "cells": [
  {
   "cell_type": "code",
   "execution_count": 212,
   "metadata": {},
   "outputs": [],
   "source": [
    "#Import libraries\n",
    "import numpy as np\n",
    "import pandas as pd\n"
   ]
  },
  {
   "cell_type": "code",
   "execution_count": 213,
   "metadata": {},
   "outputs": [],
   "source": [
    "#Loading data\n",
    "file_path = 'data.npy'\n",
    "loaded_array = np.load(file_path)"
   ]
  },
  {
   "cell_type": "code",
   "execution_count": 214,
   "metadata": {},
   "outputs": [],
   "source": [
    "def polar_to_cartesian(r, theta):\n",
    "    x = r * np.cos(theta)\n",
    "    y = r * np.sin(theta)\n",
    "    return x, y\n"
   ]
  },
  {
   "cell_type": "code",
   "execution_count": 215,
   "metadata": {},
   "outputs": [],
   "source": [
    "x_coord, y_coord = polar_to_cartesian(loaded_array[:,0], loaded_array[:,1])\n",
    "scores = loaded_array[:,2]"
   ]
  },
  {
   "cell_type": "code",
   "execution_count": 216,
   "metadata": {},
   "outputs": [],
   "source": [
    "def calc_gradients(x,y):\n",
    "    x_non_zero = np.where(x == 0, 1, x)\n",
    "    result = np.divide(y, x_non_zero)\n",
    "    result = np.where(x == 0, np.nan, result)\n",
    "    return result\n"
   ]
  },
  {
   "cell_type": "code",
   "execution_count": 217,
   "metadata": {},
   "outputs": [],
   "source": [
    "slopes = calc_gradients(x_coord, y_coord)"
   ]
  },
  {
   "cell_type": "code",
   "execution_count": 218,
   "metadata": {},
   "outputs": [],
   "source": [
    "intersection_y = lambda r,m,theta: r*(np.sin(theta) - m*np.cos(theta))\n",
    "\n",
    "intersection_values_y = intersection_y(loaded_array[:,0],slopes,loaded_array[:,1])\n"
   ]
  },
  {
   "cell_type": "code",
   "execution_count": 219,
   "metadata": {},
   "outputs": [
    {
     "name": "stderr",
     "output_type": "stream",
     "text": [
      "/var/folders/pn/7xb0xrx119l4_783pgg7gp140000gn/T/ipykernel_3478/1933300804.py:1: RuntimeWarning: invalid value encountered in divide\n",
      "  intersection_x = lambda b,m: -b/m\n"
     ]
    }
   ],
   "source": [
    "intersection_x = lambda b,m: -b/m\n",
    "\n",
    "intersection_values_x = intersection_x(intersection_values_y,slopes)"
   ]
  },
  {
   "cell_type": "code",
   "execution_count": 220,
   "metadata": {},
   "outputs": [],
   "source": [
    "#Getting indices of positive and negative oriented lines \n",
    "\n",
    "positive_gradient_lines = np.where(slopes[slopes >= 0])[0]\n",
    "negative_gradient_lines = np.where(slopes[slopes < 0])[0]\n"
   ]
  },
  {
   "cell_type": "code",
   "execution_count": 221,
   "metadata": {},
   "outputs": [],
   "source": [
    "#Create a new array that contains the x-intercept difference for each line of positive gradient to each line of negative gradient\n",
    "x_intercept_diff = np.abs(intersection_values_x[positive_gradient_lines][:, np.newaxis] - intersection_values_x[negative_gradient_lines])\n",
    "scores_diff = (scores[positive_gradient_lines][:, np.newaxis] + scores[negative_gradient_lines])"
   ]
  },
  {
   "cell_type": "code",
   "execution_count": 222,
   "metadata": {},
   "outputs": [
    {
     "ename": "IndexError",
     "evalue": "arrays used as indices must be of integer (or boolean) type",
     "output_type": "error",
     "traceback": [
      "\u001b[0;31m---------------------------------------------------------------------------\u001b[0m",
      "\u001b[0;31mIndexError\u001b[0m                                Traceback (most recent call last)",
      "\u001b[0;32m/var/folders/pn/7xb0xrx119l4_783pgg7gp140000gn/T/ipykernel_3478/2558693663.py\u001b[0m in \u001b[0;36m<cell line: 3>\u001b[0;34m()\u001b[0m\n\u001b[1;32m      3\u001b[0m \u001b[0;32mfor\u001b[0m \u001b[0mitem\u001b[0m \u001b[0;32min\u001b[0m \u001b[0mx_intercept_diff\u001b[0m\u001b[0;34m:\u001b[0m\u001b[0;34m\u001b[0m\u001b[0;34m\u001b[0m\u001b[0m\n\u001b[1;32m      4\u001b[0m     \u001b[0;32mfor\u001b[0m \u001b[0mj\u001b[0m \u001b[0;32min\u001b[0m \u001b[0mitem\u001b[0m\u001b[0;34m:\u001b[0m\u001b[0;34m\u001b[0m\u001b[0;34m\u001b[0m\u001b[0m\n\u001b[0;32m----> 5\u001b[0;31m         \u001b[0mpositive_grad\u001b[0m \u001b[0;34m=\u001b[0m \u001b[0mslopes\u001b[0m\u001b[0;34m[\u001b[0m\u001b[0mslopes\u001b[0m \u001b[0;34m>=\u001b[0m \u001b[0;36m0\u001b[0m\u001b[0;34m]\u001b[0m\u001b[0;34m[\u001b[0m\u001b[0mitem\u001b[0m\u001b[0;34m]\u001b[0m\u001b[0;34m\u001b[0m\u001b[0;34m\u001b[0m\u001b[0m\n\u001b[0m\u001b[1;32m      6\u001b[0m         \u001b[0mpositive_intersection\u001b[0m \u001b[0;34m=\u001b[0m \u001b[0mintersection_values_y\u001b[0m\u001b[0;34m[\u001b[0m\u001b[0mitem\u001b[0m\u001b[0;34m]\u001b[0m\u001b[0;34m\u001b[0m\u001b[0;34m\u001b[0m\u001b[0m\n\u001b[1;32m      7\u001b[0m         \u001b[0mnegative_grad\u001b[0m \u001b[0;34m=\u001b[0m \u001b[0mslopes\u001b[0m\u001b[0;34m[\u001b[0m\u001b[0mslopes\u001b[0m \u001b[0;34m<\u001b[0m \u001b[0;36m0\u001b[0m\u001b[0;34m]\u001b[0m\u001b[0;34m[\u001b[0m\u001b[0mj\u001b[0m\u001b[0;34m]\u001b[0m\u001b[0;34m\u001b[0m\u001b[0;34m\u001b[0m\u001b[0m\n",
      "\u001b[0;31mIndexError\u001b[0m: arrays used as indices must be of integer (or boolean) type"
     ]
    }
   ],
   "source": [
    "\n",
    "closest_pairs_data = []\n",
    "\n",
    "for i,item in enumerate(x_intercept_diff):\n",
    "    for j,element in enumerate(item):\n",
    "        positive_grad = slopes[slopes >= 0][item]\n",
    "        positive_intersection = intersection_values_y[item]\n",
    "        negative_grad = slopes[slopes < 0][j]\n",
    "        negative_intersection = intersection_values_y[j]\n",
    "        x_intercept_difference = x_intercept_diff[item, j]\n",
    "        sum_score = scores_diff[item, j]\n",
    "\n",
    "        closest_pairs_data.append([\n",
    "            positive_grad, negative_grad,positive_intersection,negative_intersection,\n",
    "            x_intercept_difference, sum_score\n",
    "        ])\n",
    "\n",
    "column_names = ['Positive Gradient', 'Negative Gradient','Positive Y Intersection','Negative Y Intersection',\n",
    "                'x-intercept Difference', 'Sum Score']\n",
    "\n",
    "df = pd.DataFrame(closest_pairs_data, columns=column_names)\n",
    "\n",
    "df"
   ]
  },
  {
   "cell_type": "code",
   "execution_count": null,
   "metadata": {},
   "outputs": [],
   "source": [
    "#df.to_csv('closest_pairs.csv', index=False)\n"
   ]
  }
 ],
 "metadata": {
  "kernelspec": {
   "display_name": "Python 3",
   "language": "python",
   "name": "python3"
  },
  "language_info": {
   "codemirror_mode": {
    "name": "ipython",
    "version": 3
   },
   "file_extension": ".py",
   "mimetype": "text/x-python",
   "name": "python",
   "nbconvert_exporter": "python",
   "pygments_lexer": "ipython3",
   "version": "3.9.6"
  },
  "orig_nbformat": 4
 },
 "nbformat": 4,
 "nbformat_minor": 2
}
