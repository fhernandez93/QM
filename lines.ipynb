{
 "cells": [
  {
   "cell_type": "code",
   "execution_count": 175,
   "metadata": {},
   "outputs": [],
   "source": [
    "#Import libraries\n",
    "import numpy as np\n",
    "import pandas as pd\n"
   ]
  },
  {
   "cell_type": "code",
   "execution_count": 176,
   "metadata": {},
   "outputs": [],
   "source": [
    "#Loading data\n",
    "file_path = 'data.npy'\n",
    "loaded_array = np.load(file_path)"
   ]
  },
  {
   "cell_type": "code",
   "execution_count": 177,
   "metadata": {},
   "outputs": [],
   "source": [
    "def polar_to_cartesian(r, theta):\n",
    "    x = r * np.cos(theta)\n",
    "    y = r * np.sin(theta)\n",
    "    return x, y\n"
   ]
  },
  {
   "cell_type": "code",
   "execution_count": 178,
   "metadata": {},
   "outputs": [],
   "source": [
    "x_coord, y_coord = polar_to_cartesian(loaded_array[:,0], loaded_array[:,1])\n",
    "scores = loaded_array[:,2]"
   ]
  },
  {
   "cell_type": "code",
   "execution_count": 179,
   "metadata": {},
   "outputs": [],
   "source": [
    "def calc_gradients(x,y):\n",
    "    x_non_zero = np.where(x == 0, 1, x)\n",
    "    result = np.divide(y, x_non_zero)\n",
    "    result = np.where(x == 0, np.nan, result)\n",
    "    return result\n"
   ]
  },
  {
   "cell_type": "code",
   "execution_count": 180,
   "metadata": {},
   "outputs": [],
   "source": [
    "slopes = calc_gradients(x_coord, y_coord)"
   ]
  },
  {
   "cell_type": "code",
   "execution_count": 181,
   "metadata": {},
   "outputs": [],
   "source": [
    "intersection_y = lambda r,m,theta: r*(np.sin(theta) - m*np.cos(theta))\n",
    "\n",
    "intersection_values_y = intersection_y(loaded_array[:,0],slopes,loaded_array[:,1])\n"
   ]
  },
  {
   "cell_type": "code",
   "execution_count": 182,
   "metadata": {},
   "outputs": [
    {
     "name": "stderr",
     "output_type": "stream",
     "text": [
      "/var/folders/pn/7xb0xrx119l4_783pgg7gp140000gn/T/ipykernel_3478/1933300804.py:1: RuntimeWarning: invalid value encountered in divide\n",
      "  intersection_x = lambda b,m: -b/m\n"
     ]
    }
   ],
   "source": [
    "intersection_x = lambda b,m: -b/m\n",
    "\n",
    "intersection_values_x = intersection_x(intersection_values_y,slopes)"
   ]
  },
  {
   "cell_type": "code",
   "execution_count": 183,
   "metadata": {},
   "outputs": [],
   "source": [
    "#Getting indices of positive and negative oriented lines \n",
    "\n",
    "positive_gradient_lines = np.where(slopes[slopes >= 0])[0]\n",
    "negative_gradient_lines = np.where(slopes[slopes < 0])[0]\n"
   ]
  },
  {
   "cell_type": "code",
   "execution_count": 184,
   "metadata": {},
   "outputs": [],
   "source": [
    "#Create a new array that contains the x-intercept difference for each line of positive gradient to each line of negative gradient\n",
    "x_intercept_diff = np.abs(intersection_values_x[positive_gradient_lines][:, np.newaxis] - intersection_values_x[negative_gradient_lines])\n",
    "scores_diff = (scores[positive_gradient_lines][:, np.newaxis] + scores[negative_gradient_lines])"
   ]
  },
  {
   "cell_type": "code",
   "execution_count": 185,
   "metadata": {},
   "outputs": [
    {
     "data": {
      "text/html": [
       "<div>\n",
       "<style scoped>\n",
       "    .dataframe tbody tr th:only-of-type {\n",
       "        vertical-align: middle;\n",
       "    }\n",
       "\n",
       "    .dataframe tbody tr th {\n",
       "        vertical-align: top;\n",
       "    }\n",
       "\n",
       "    .dataframe thead th {\n",
       "        text-align: right;\n",
       "    }\n",
       "</style>\n",
       "<table border=\"1\" class=\"dataframe\">\n",
       "  <thead>\n",
       "    <tr style=\"text-align: right;\">\n",
       "      <th></th>\n",
       "      <th>Positive Gradient</th>\n",
       "      <th>Negative Gradient</th>\n",
       "      <th>Positive Intersection</th>\n",
       "      <th>Negative Intersection</th>\n",
       "      <th>x-intercept Difference</th>\n",
       "      <th>Sum Score</th>\n",
       "    </tr>\n",
       "  </thead>\n",
       "  <tbody>\n",
       "    <tr>\n",
       "      <th>0</th>\n",
       "      <td>0.017455</td>\n",
       "      <td>-1.539865</td>\n",
       "      <td>0.000003</td>\n",
       "      <td>0.000003</td>\n",
       "      <td>0.0</td>\n",
       "      <td>136.0</td>\n",
       "    </tr>\n",
       "    <tr>\n",
       "      <th>1</th>\n",
       "      <td>1.072369</td>\n",
       "      <td>-2.747478</td>\n",
       "      <td>-0.000000</td>\n",
       "      <td>-0.000000</td>\n",
       "      <td>0.0</td>\n",
       "      <td>60.0</td>\n",
       "    </tr>\n",
       "    <tr>\n",
       "      <th>2</th>\n",
       "      <td>1.072369</td>\n",
       "      <td>-3.077684</td>\n",
       "      <td>-0.000000</td>\n",
       "      <td>-0.000000</td>\n",
       "      <td>0.0</td>\n",
       "      <td>60.0</td>\n",
       "    </tr>\n",
       "    <tr>\n",
       "      <th>3</th>\n",
       "      <td>1.072369</td>\n",
       "      <td>-4.010781</td>\n",
       "      <td>-0.000000</td>\n",
       "      <td>-0.000000</td>\n",
       "      <td>0.0</td>\n",
       "      <td>60.0</td>\n",
       "    </tr>\n",
       "    <tr>\n",
       "      <th>4</th>\n",
       "      <td>1.072369</td>\n",
       "      <td>-4.704632</td>\n",
       "      <td>-0.000000</td>\n",
       "      <td>-0.000000</td>\n",
       "      <td>0.0</td>\n",
       "      <td>60.0</td>\n",
       "    </tr>\n",
       "    <tr>\n",
       "      <th>...</th>\n",
       "      <td>...</td>\n",
       "      <td>...</td>\n",
       "      <td>...</td>\n",
       "      <td>...</td>\n",
       "      <td>...</td>\n",
       "      <td>...</td>\n",
       "    </tr>\n",
       "    <tr>\n",
       "      <th>95</th>\n",
       "      <td>1.072369</td>\n",
       "      <td>-2.144506</td>\n",
       "      <td>-0.000000</td>\n",
       "      <td>-0.000000</td>\n",
       "      <td>0.0</td>\n",
       "      <td>57.0</td>\n",
       "    </tr>\n",
       "    <tr>\n",
       "      <th>96</th>\n",
       "      <td>1.072369</td>\n",
       "      <td>-2.144506</td>\n",
       "      <td>-0.000000</td>\n",
       "      <td>-0.000000</td>\n",
       "      <td>0.0</td>\n",
       "      <td>57.0</td>\n",
       "    </tr>\n",
       "    <tr>\n",
       "      <th>97</th>\n",
       "      <td>1.072369</td>\n",
       "      <td>-2.050304</td>\n",
       "      <td>-0.000000</td>\n",
       "      <td>-0.000000</td>\n",
       "      <td>0.0</td>\n",
       "      <td>57.0</td>\n",
       "    </tr>\n",
       "    <tr>\n",
       "      <th>98</th>\n",
       "      <td>1.072369</td>\n",
       "      <td>-3.732051</td>\n",
       "      <td>-0.000000</td>\n",
       "      <td>0.000000</td>\n",
       "      <td>0.0</td>\n",
       "      <td>56.0</td>\n",
       "    </tr>\n",
       "    <tr>\n",
       "      <th>99</th>\n",
       "      <td>1.072369</td>\n",
       "      <td>-8.144350</td>\n",
       "      <td>-0.000000</td>\n",
       "      <td>0.000000</td>\n",
       "      <td>0.0</td>\n",
       "      <td>56.0</td>\n",
       "    </tr>\n",
       "  </tbody>\n",
       "</table>\n",
       "<p>100 rows × 6 columns</p>\n",
       "</div>"
      ],
      "text/plain": [
       "    Positive Gradient  Negative Gradient  Positive Intersection  \\\n",
       "0            0.017455          -1.539865               0.000003   \n",
       "1            1.072369          -2.747478              -0.000000   \n",
       "2            1.072369          -3.077684              -0.000000   \n",
       "3            1.072369          -4.010781              -0.000000   \n",
       "4            1.072369          -4.704632              -0.000000   \n",
       "..                ...                ...                    ...   \n",
       "95           1.072369          -2.144506              -0.000000   \n",
       "96           1.072369          -2.144506              -0.000000   \n",
       "97           1.072369          -2.050304              -0.000000   \n",
       "98           1.072369          -3.732051              -0.000000   \n",
       "99           1.072369          -8.144350              -0.000000   \n",
       "\n",
       "    Negative Intersection  x-intercept Difference  Sum Score  \n",
       "0                0.000003                     0.0      136.0  \n",
       "1               -0.000000                     0.0       60.0  \n",
       "2               -0.000000                     0.0       60.0  \n",
       "3               -0.000000                     0.0       60.0  \n",
       "4               -0.000000                     0.0       60.0  \n",
       "..                    ...                     ...        ...  \n",
       "95              -0.000000                     0.0       57.0  \n",
       "96              -0.000000                     0.0       57.0  \n",
       "97              -0.000000                     0.0       57.0  \n",
       "98               0.000000                     0.0       56.0  \n",
       "99               0.000000                     0.0       56.0  \n",
       "\n",
       "[100 rows x 6 columns]"
      ]
     },
     "execution_count": 185,
     "metadata": {},
     "output_type": "execute_result"
    }
   ],
   "source": [
    "closest_pairs_indices = np.unravel_index(np.argsort(x_intercept_diff, axis=None), x_intercept_diff.shape)\n",
    "closest_pairs_indices = np.column_stack(closest_pairs_indices)[:100]\n",
    "\n",
    "closest_pairs_data = []\n",
    "\n",
    "for index_pair in closest_pairs_indices:\n",
    "    positive_grad = slopes[slopes >= 0][index_pair[0]]\n",
    "    positive_intersection = intersection_values_x[index_pair[0]]\n",
    "    negative_grad = slopes[slopes < 0][index_pair[1]]\n",
    "    negative_intersection = intersection_values_x[index_pair[1]]\n",
    "    x_intercept_difference = x_intercept_diff[index_pair[0], index_pair[1]]\n",
    "    sum_score = scores_diff[index_pair[0], index_pair[1]]\n",
    "\n",
    "    closest_pairs_data.append([\n",
    "        positive_grad, negative_grad,positive_intersection,negative_intersection,\n",
    "        x_intercept_difference, sum_score\n",
    "    ])\n",
    "\n",
    "column_names = ['Positive Gradient', 'Negative Gradient','Positive Intersection','Negative Intersection',\n",
    "                'x-intercept Difference', 'Sum Score']\n",
    "\n",
    "df = pd.DataFrame(closest_pairs_data, columns=column_names)\n",
    "\n",
    "df"
   ]
  },
  {
   "cell_type": "code",
   "execution_count": null,
   "metadata": {},
   "outputs": [],
   "source": []
  }
 ],
 "metadata": {
  "kernelspec": {
   "display_name": "Python 3",
   "language": "python",
   "name": "python3"
  },
  "language_info": {
   "codemirror_mode": {
    "name": "ipython",
    "version": 3
   },
   "file_extension": ".py",
   "mimetype": "text/x-python",
   "name": "python",
   "nbconvert_exporter": "python",
   "pygments_lexer": "ipython3",
   "version": "3.9.6"
  },
  "orig_nbformat": 4
 },
 "nbformat": 4,
 "nbformat_minor": 2
}
